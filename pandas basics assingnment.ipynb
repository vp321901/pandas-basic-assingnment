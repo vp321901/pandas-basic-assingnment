{
 "cells": [
  {
   "cell_type": "code",
   "execution_count": 1,
   "id": "d1cc8a0e-847f-4346-8c6e-104bc10588e7",
   "metadata": {},
   "outputs": [],
   "source": [
    "           #ANSWER:1"
   ]
  },
  {
   "cell_type": "code",
   "execution_count": 2,
   "id": "cdcf3ecc-4d4d-4080-8e62-94d78e2ebb27",
   "metadata": {},
   "outputs": [
    {
     "name": "stdout",
     "output_type": "stream",
     "text": [
      "0     4\n",
      "1     8\n",
      "2    15\n",
      "3    16\n",
      "4    23\n",
      "5    42\n",
      "dtype: object\n"
     ]
    }
   ],
   "source": [
    "import pandas as pd\n",
    "data = ['4', '8', '15', '16', '23','42']\n",
    "df = pd.Series(data)\n",
    "print(df)"
   ]
  },
  {
   "cell_type": "code",
   "execution_count": 4,
   "id": "b136ba80-70c3-4299-8c5f-7adfbbe1b969",
   "metadata": {},
   "outputs": [],
   "source": [
    "          #ANSWER:2"
   ]
  },
  {
   "cell_type": "code",
   "execution_count": 5,
   "id": "61e2d441-ac0a-4d26-a352-b087a4bda278",
   "metadata": {},
   "outputs": [
    {
     "name": "stdout",
     "output_type": "stream",
     "text": [
      "0     1\n",
      "1     2\n",
      "2     3\n",
      "3     4\n",
      "4     5\n",
      "5     6\n",
      "6     7\n",
      "7     8\n",
      "8     9\n",
      "9    10\n",
      "dtype: int64\n"
     ]
    }
   ],
   "source": [
    "import pandas as pd \n",
    "variable = [1, 2, 3, 4, 5, 6, 7, 8, 9, 10]\n",
    "series = pd.Series(variable)\n",
    "print(series)"
   ]
  },
  {
   "cell_type": "code",
   "execution_count": 6,
   "id": "0bc23b96-7220-4453-a0f6-12a7565d227c",
   "metadata": {},
   "outputs": [],
   "source": [
    "           #ANSWER:3"
   ]
  },
  {
   "cell_type": "code",
   "execution_count": 8,
   "id": "3fb6ebe5-f361-48af-a320-d4184f430ac7",
   "metadata": {},
   "outputs": [
    {
     "name": "stdout",
     "output_type": "stream",
     "text": [
      "     name Age  Gender\n",
      "0   Alice  25  Female\n",
      "1     Bob  30    Male\n",
      "2  Claire  27  Female\n"
     ]
    }
   ],
   "source": [
    "import pandas as pd\n",
    "\n",
    "data = {'name': ['Alice' , 'Bob' , 'Claire'],\n",
    "       'Age':['25','30','27'],\n",
    "       'Gender':['Female','Male','Female']}\n",
    "df = pd.DataFrame(data)\n",
    "print(df)"
   ]
  },
  {
   "cell_type": "code",
   "execution_count": 9,
   "id": "832f6ade-2f11-4300-80ec-5781d390cecc",
   "metadata": {},
   "outputs": [],
   "source": [
    "           #ANSWER:4"
   ]
  },
  {
   "cell_type": "code",
   "execution_count": 10,
   "id": "20edd8af-cb3f-4a01-a0b3-8b1eafcd8297",
   "metadata": {},
   "outputs": [
    {
     "name": "stdout",
     "output_type": "stream",
     "text": [
      "Series:\n",
      "0    10\n",
      "1    20\n",
      "2    30\n",
      "3    40\n",
      "4    50\n",
      "dtype: int64\n",
      "\n",
      "DataFrame:\n",
      "    Name  Age      City\n",
      "0   John   25  New York\n",
      "1   Anna   30    London\n",
      "2  Peter   35     Paris\n",
      "3  Linda   40    Berlin\n",
      "4  James   45     Tokyo\n"
     ]
    }
   ],
   "source": [
    "#In pandas, a **DataFrame** is a two-dimensional, size-mutable, and potentially heterogeneous tabular data structure with labeled axes (rows and columns). It is similar to a spreadsheet or SQL table, or a dictionary of Series objects.\n",
    "#Each column in a DataFrame can be of a different data type (e.g., integer, float, string, etc.).\n",
    "\n",
    "#On the other hand, a **Series** is a one-dimensional labeled array that can hold any data type. It can be thought of as a single column of a DataFrame.\n",
    "\n",
    "#Here's an example to illustrate the difference:\n",
    "\n",
    "import pandas as pd\n",
    "\n",
    "# Creating a Series\n",
    "series_data = pd.Series([10, 20, 30, 40, 50])\n",
    "\n",
    "# Creating a DataFrame\n",
    "data = {'Name': ['John', 'Anna', 'Peter', 'Linda', 'James'],\n",
    "        'Age': [25, 30, 35, 40, 45],\n",
    "        'City': ['New York', 'London', 'Paris', 'Berlin', 'Tokyo']}\n",
    "\n",
    "df = pd.DataFrame(data)\n",
    "\n",
    "print(\"Series:\")\n",
    "print(series_data)\n",
    "print(\"\\nDataFrame:\")\n",
    "print(df)"
   ]
  },
  {
   "cell_type": "code",
   "execution_count": 11,
   "id": "e57dea99-e5ce-4fa7-8ff6-4f45f23bd72b",
   "metadata": {},
   "outputs": [],
   "source": [
    "                    #ANSWER:5"
   ]
  },
  {
   "cell_type": "code",
   "execution_count": 18,
   "id": "52c9ca57-bbd5-4577-a3d8-515debf7044c",
   "metadata": {},
   "outputs": [
    {
     "name": "stdout",
     "output_type": "stream",
     "text": [
      "<class 'pandas.core.frame.DataFrame'>\n",
      "RangeIndex: 5 entries, 0 to 4\n",
      "Data columns (total 4 columns):\n",
      " #   Column       Non-Null Count  Dtype \n",
      "---  ------       --------------  ----- \n",
      " 0   Name         5 non-null      object\n",
      " 1   Age          5 non-null      int64 \n",
      " 2   City         5 non-null      object\n",
      " 3   Doubled_Age  5 non-null      int64 \n",
      "dtypes: int64(2), object(2)\n",
      "memory usage: 288.0+ bytes\n"
     ]
    }
   ],
   "source": [
    "\"\"\"Certainly! There are numerous functions available in pandas for data manipulation.\n",
    "\n",
    "1. **`head()` and `tail()`**:\n",
    "   - **Usage**: To view the first or last few rows of a DataFrame.\n",
    "   - **Example**:\"\"\"\n",
    "df.head()  # View the first 5 rows\n",
    "df.tail(3)  # View the last 3 rows\n",
    "\n",
    "\"\"\"2. **`info()`**:\n",
    "   - **Usage**: To get a concise summary of the DataFrame, including data types and missing values.\n",
    "   - **Example**:\"\"\"\n",
    "df.info()\n",
    "\n",
    "\"\"\"3. **`describe()`**:\n",
    "   - **Usage**: Provides summary statistics for numerical columns.\n",
    "   - **Example**:\"\"\"\n",
    "df.describe()\n",
    "\n",
    "\"\"\"4. **`mean()`, `median()`, `std()`, `max()`, `min()`**:\n",
    "   - **Usage**: Aggregate functions to calculate statistics.\n",
    "   - **Example**:\"\"\"\n",
    "   \n",
    "df['Age'].mean()  # Calculate the mean of the 'Age' column\n",
    " \n",
    "\n",
    "\"\"\"5. **`groupby()`**:\n",
    "   - **Usage**: Group data based on a specific column or columns.\n",
    "   - **Example**:\"\"\"\n",
    "df.groupby('City')['Age'].mean()  # Calculate the average age for each city\n",
    "\n",
    "\"\"\"6. **`apply()`**:\n",
    "   - **Usage**: Apply a function along an axis of the DataFrame.\n",
    "   - **Example**:\"\"\"\n",
    "df['Doubled_Age'] = df['Age'].apply(lambda x: x * 2)  # Create a new column with doubled \n",
    "\n",
    "\n",
    "\"\"\"7. **`fillna()`**:\n",
    "   - **Usage**: Fill missing values in the DataFrame.\n",
    "   - **Example**:\"\"\"\n",
    "df['Age'].fillna(df['Age'].mean(), inplace=True)  # Fill missing age values with the mean age\n",
    "\n",
    "\n"
   ]
  },
  {
   "cell_type": "code",
   "execution_count": null,
   "id": "9039ac6a-8f60-42e1-8540-975064631200",
   "metadata": {},
   "outputs": [],
   "source": [
    "               #ANSWER:6"
   ]
  },
  {
   "cell_type": "code",
   "execution_count": 19,
   "id": "c8542ee8-e25f-4907-887c-d451cb96aab8",
   "metadata": {},
   "outputs": [],
   "source": [
    "#In pandas, the Series and DataFrame are mutable, while the Panel is considered to be deprecated as of version 0.25.0 (July 2019) and removed in version 1.0.0 (January 2020)."
   ]
  },
  {
   "cell_type": "code",
   "execution_count": 20,
   "id": "ab3e2cd8-8da6-4b12-95da-0dbf85a86152",
   "metadata": {},
   "outputs": [],
   "source": [
    "             #ANSWER:7"
   ]
  },
  {
   "cell_type": "code",
   "execution_count": 21,
   "id": "69d45692-21e6-49ed-9b8e-f219ce0fee11",
   "metadata": {},
   "outputs": [
    {
     "name": "stdout",
     "output_type": "stream",
     "text": [
      "    Name  Age      City\n",
      "0   John   25  New York\n",
      "1   Anna   30    London\n",
      "2  Peter   35     Paris\n",
      "3  Linda   40    Berlin\n",
      "4  James   45     Tokyo\n"
     ]
    }
   ],
   "source": [
    "import pandas as pd\n",
    "\n",
    "# Creating multiple Series\n",
    "names = pd.Series(['John', 'Anna', 'Peter', 'Linda', 'James'])\n",
    "ages = pd.Series([25, 30, 35, 40, 45])\n",
    "cities = pd.Series(['New York', 'London', 'Paris', 'Berlin', 'Tokyo'])\n",
    "\n",
    "# Creating a DataFrame using the Series\n",
    "data = {'Name': names, 'Age': ages, 'City': cities}\n",
    "df = pd.DataFrame(data)\n",
    "\n",
    "# Print the DataFrame\n",
    "print(df)\n"
   ]
  },
  {
   "cell_type": "code",
   "execution_count": null,
   "id": "26cd2752-221b-4bae-99fe-d5f59662f43d",
   "metadata": {},
   "outputs": [],
   "source": []
  }
 ],
 "metadata": {
  "kernelspec": {
   "display_name": "Python 3 (ipykernel)",
   "language": "python",
   "name": "python3"
  },
  "language_info": {
   "codemirror_mode": {
    "name": "ipython",
    "version": 3
   },
   "file_extension": ".py",
   "mimetype": "text/x-python",
   "name": "python",
   "nbconvert_exporter": "python",
   "pygments_lexer": "ipython3",
   "version": "3.10.8"
  }
 },
 "nbformat": 4,
 "nbformat_minor": 5
}
